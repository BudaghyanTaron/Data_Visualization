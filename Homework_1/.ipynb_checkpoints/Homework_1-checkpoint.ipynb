{
 "cells": [
  {
   "cell_type": "markdown",
   "id": "0bb55fdb-73cd-484d-a1bf-13856037c0dd",
   "metadata": {},
   "source": [
    "# Homework 1"
   ]
  },
  {
   "cell_type": "markdown",
   "id": "0ba612ee-1153-44a8-9cbc-053fd93c8f7c",
   "metadata": {},
   "source": [
    "## Part 1"
   ]
  },
  {
   "cell_type": "markdown",
   "id": "07d50316-a09e-4122-9546-7ca4fdfdfe4f",
   "metadata": {},
   "source": [
    "### 1.1"
   ]
  },
  {
   "cell_type": "code",
   "execution_count": 1,
   "id": "b82cb5cb-f02d-4f17-b56e-04b7a134d4de",
   "metadata": {},
   "outputs": [],
   "source": [
    "import pandas as pd"
   ]
  },
  {
   "cell_type": "code",
   "execution_count": 2,
   "id": "86def0e9-3a31-4868-848d-2eece1c3295a",
   "metadata": {
    "scrolled": true
   },
   "outputs": [
    {
     "data": {
      "text/html": [
       "<div>\n",
       "<style scoped>\n",
       "    .dataframe tbody tr th:only-of-type {\n",
       "        vertical-align: middle;\n",
       "    }\n",
       "\n",
       "    .dataframe tbody tr th {\n",
       "        vertical-align: top;\n",
       "    }\n",
       "\n",
       "    .dataframe thead th {\n",
       "        text-align: right;\n",
       "    }\n",
       "</style>\n",
       "<table border=\"1\" class=\"dataframe\">\n",
       "  <thead>\n",
       "    <tr style=\"text-align: right;\">\n",
       "      <th></th>\n",
       "      <th>DR_NO</th>\n",
       "      <th>Date Rptd</th>\n",
       "      <th>DATE OCC</th>\n",
       "      <th>TIME OCC</th>\n",
       "      <th>AREA</th>\n",
       "      <th>AREA NAME</th>\n",
       "      <th>Rpt Dist No</th>\n",
       "      <th>Part 1-2</th>\n",
       "      <th>Crm Cd</th>\n",
       "      <th>Crm Cd Desc</th>\n",
       "      <th>...</th>\n",
       "      <th>Status</th>\n",
       "      <th>Status Desc</th>\n",
       "      <th>Crm Cd 1</th>\n",
       "      <th>Crm Cd 2</th>\n",
       "      <th>Crm Cd 3</th>\n",
       "      <th>Crm Cd 4</th>\n",
       "      <th>LOCATION</th>\n",
       "      <th>Cross Street</th>\n",
       "      <th>LAT</th>\n",
       "      <th>LON</th>\n",
       "    </tr>\n",
       "  </thead>\n",
       "  <tbody>\n",
       "    <tr>\n",
       "      <th>0</th>\n",
       "      <td>241711715</td>\n",
       "      <td>08/01/2024 12:00:00 AM</td>\n",
       "      <td>08/01/2024 12:00:00 AM</td>\n",
       "      <td>1319</td>\n",
       "      <td>17</td>\n",
       "      <td>Devonshire</td>\n",
       "      <td>1791</td>\n",
       "      <td>1</td>\n",
       "      <td>440</td>\n",
       "      <td>THEFT PLAIN - PETTY ($950 &amp; UNDER)</td>\n",
       "      <td>...</td>\n",
       "      <td>IC</td>\n",
       "      <td>Invest Cont</td>\n",
       "      <td>440.0</td>\n",
       "      <td>NaN</td>\n",
       "      <td>NaN</td>\n",
       "      <td>NaN</td>\n",
       "      <td>8300    KELVIN                       AV</td>\n",
       "      <td>NaN</td>\n",
       "      <td>34.2200</td>\n",
       "      <td>-118.5863</td>\n",
       "    </tr>\n",
       "    <tr>\n",
       "      <th>1</th>\n",
       "      <td>231014031</td>\n",
       "      <td>09/21/2023 12:00:00 AM</td>\n",
       "      <td>09/15/2023 12:00:00 AM</td>\n",
       "      <td>1930</td>\n",
       "      <td>10</td>\n",
       "      <td>West Valley</td>\n",
       "      <td>1011</td>\n",
       "      <td>2</td>\n",
       "      <td>354</td>\n",
       "      <td>THEFT OF IDENTITY</td>\n",
       "      <td>...</td>\n",
       "      <td>IC</td>\n",
       "      <td>Invest Cont</td>\n",
       "      <td>354.0</td>\n",
       "      <td>NaN</td>\n",
       "      <td>NaN</td>\n",
       "      <td>NaN</td>\n",
       "      <td>18900    CANTLAY                      ST</td>\n",
       "      <td>NaN</td>\n",
       "      <td>34.2023</td>\n",
       "      <td>-118.5458</td>\n",
       "    </tr>\n",
       "    <tr>\n",
       "      <th>2</th>\n",
       "      <td>231010808</td>\n",
       "      <td>06/27/2023 12:00:00 AM</td>\n",
       "      <td>06/26/2023 12:00:00 AM</td>\n",
       "      <td>1230</td>\n",
       "      <td>10</td>\n",
       "      <td>West Valley</td>\n",
       "      <td>1015</td>\n",
       "      <td>2</td>\n",
       "      <td>354</td>\n",
       "      <td>THEFT OF IDENTITY</td>\n",
       "      <td>...</td>\n",
       "      <td>IC</td>\n",
       "      <td>Invest Cont</td>\n",
       "      <td>354.0</td>\n",
       "      <td>NaN</td>\n",
       "      <td>NaN</td>\n",
       "      <td>NaN</td>\n",
       "      <td>7300    ENFIELD                      AV</td>\n",
       "      <td>NaN</td>\n",
       "      <td>34.2033</td>\n",
       "      <td>-118.5241</td>\n",
       "    </tr>\n",
       "    <tr>\n",
       "      <th>3</th>\n",
       "      <td>211410441</td>\n",
       "      <td>04/25/2021 12:00:00 AM</td>\n",
       "      <td>04/25/2021 12:00:00 AM</td>\n",
       "      <td>2330</td>\n",
       "      <td>14</td>\n",
       "      <td>Pacific</td>\n",
       "      <td>1488</td>\n",
       "      <td>2</td>\n",
       "      <td>626</td>\n",
       "      <td>INTIMATE PARTNER - SIMPLE ASSAULT</td>\n",
       "      <td>...</td>\n",
       "      <td>IC</td>\n",
       "      <td>Invest Cont</td>\n",
       "      <td>626.0</td>\n",
       "      <td>NaN</td>\n",
       "      <td>NaN</td>\n",
       "      <td>NaN</td>\n",
       "      <td>5800 W  CENTURY                      BL</td>\n",
       "      <td>NaN</td>\n",
       "      <td>33.9456</td>\n",
       "      <td>-118.3835</td>\n",
       "    </tr>\n",
       "    <tr>\n",
       "      <th>4</th>\n",
       "      <td>211114569</td>\n",
       "      <td>10/25/2021 12:00:00 AM</td>\n",
       "      <td>10/25/2021 12:00:00 AM</td>\n",
       "      <td>1455</td>\n",
       "      <td>11</td>\n",
       "      <td>Northeast</td>\n",
       "      <td>1123</td>\n",
       "      <td>1</td>\n",
       "      <td>210</td>\n",
       "      <td>ROBBERY</td>\n",
       "      <td>...</td>\n",
       "      <td>IC</td>\n",
       "      <td>Invest Cont</td>\n",
       "      <td>210.0</td>\n",
       "      <td>NaN</td>\n",
       "      <td>NaN</td>\n",
       "      <td>NaN</td>\n",
       "      <td>2900    LOS FELIZ                    BL</td>\n",
       "      <td>NaN</td>\n",
       "      <td>0.0000</td>\n",
       "      <td>0.0000</td>\n",
       "    </tr>\n",
       "  </tbody>\n",
       "</table>\n",
       "<p>5 rows × 28 columns</p>\n",
       "</div>"
      ],
      "text/plain": [
       "       DR_NO               Date Rptd                DATE OCC  TIME OCC  AREA  \\\n",
       "0  241711715  08/01/2024 12:00:00 AM  08/01/2024 12:00:00 AM      1319    17   \n",
       "1  231014031  09/21/2023 12:00:00 AM  09/15/2023 12:00:00 AM      1930    10   \n",
       "2  231010808  06/27/2023 12:00:00 AM  06/26/2023 12:00:00 AM      1230    10   \n",
       "3  211410441  04/25/2021 12:00:00 AM  04/25/2021 12:00:00 AM      2330    14   \n",
       "4  211114569  10/25/2021 12:00:00 AM  10/25/2021 12:00:00 AM      1455    11   \n",
       "\n",
       "     AREA NAME  Rpt Dist No  Part 1-2  Crm Cd  \\\n",
       "0   Devonshire         1791         1     440   \n",
       "1  West Valley         1011         2     354   \n",
       "2  West Valley         1015         2     354   \n",
       "3      Pacific         1488         2     626   \n",
       "4    Northeast         1123         1     210   \n",
       "\n",
       "                          Crm Cd Desc  ... Status  Status Desc Crm Cd 1  \\\n",
       "0  THEFT PLAIN - PETTY ($950 & UNDER)  ...     IC  Invest Cont    440.0   \n",
       "1                   THEFT OF IDENTITY  ...     IC  Invest Cont    354.0   \n",
       "2                   THEFT OF IDENTITY  ...     IC  Invest Cont    354.0   \n",
       "3   INTIMATE PARTNER - SIMPLE ASSAULT  ...     IC  Invest Cont    626.0   \n",
       "4                             ROBBERY  ...     IC  Invest Cont    210.0   \n",
       "\n",
       "  Crm Cd 2  Crm Cd 3 Crm Cd 4                                  LOCATION  \\\n",
       "0      NaN       NaN      NaN   8300    KELVIN                       AV   \n",
       "1      NaN       NaN      NaN  18900    CANTLAY                      ST   \n",
       "2      NaN       NaN      NaN   7300    ENFIELD                      AV   \n",
       "3      NaN       NaN      NaN   5800 W  CENTURY                      BL   \n",
       "4      NaN       NaN      NaN   2900    LOS FELIZ                    BL   \n",
       "\n",
       "  Cross Street      LAT       LON  \n",
       "0          NaN  34.2200 -118.5863  \n",
       "1          NaN  34.2023 -118.5458  \n",
       "2          NaN  34.2033 -118.5241  \n",
       "3          NaN  33.9456 -118.3835  \n",
       "4          NaN   0.0000    0.0000  \n",
       "\n",
       "[5 rows x 28 columns]"
      ]
     },
     "execution_count": 2,
     "metadata": {},
     "output_type": "execute_result"
    }
   ],
   "source": [
    "df = pd.read_csv(\"crime_data.csv\", delimiter=\",\")\n",
    "df.head()"
   ]
  },
  {
   "cell_type": "markdown",
   "id": "839ca232-248a-4871-bb42-3dd28653dfbb",
   "metadata": {},
   "source": [
    "### 1.2"
   ]
  },
  {
   "cell_type": "markdown",
   "id": "2963ead0-7245-4415-8827-872432597435",
   "metadata": {},
   "source": [
    "- Count missing values\n",
    "- Drop columns\n",
    "- print head"
   ]
  },
  {
   "cell_type": "code",
   "execution_count": 3,
   "id": "e9d761ae-58b6-46fc-8800-bc5bb9c693a1",
   "metadata": {
    "scrolled": true
   },
   "outputs": [
    {
     "data": {
      "text/html": [
       "<div>\n",
       "<style scoped>\n",
       "    .dataframe tbody tr th:only-of-type {\n",
       "        vertical-align: middle;\n",
       "    }\n",
       "\n",
       "    .dataframe tbody tr th {\n",
       "        vertical-align: top;\n",
       "    }\n",
       "\n",
       "    .dataframe thead th {\n",
       "        text-align: right;\n",
       "    }\n",
       "</style>\n",
       "<table border=\"1\" class=\"dataframe\">\n",
       "  <thead>\n",
       "    <tr style=\"text-align: right;\">\n",
       "      <th></th>\n",
       "      <th>DR_NO</th>\n",
       "      <th>Date Rptd</th>\n",
       "      <th>DATE OCC</th>\n",
       "      <th>TIME OCC</th>\n",
       "      <th>AREA</th>\n",
       "      <th>AREA NAME</th>\n",
       "      <th>Rpt Dist No</th>\n",
       "      <th>Part 1-2</th>\n",
       "      <th>Crm Cd</th>\n",
       "      <th>Crm Cd Desc</th>\n",
       "      <th>...</th>\n",
       "      <th>Vict Sex</th>\n",
       "      <th>Vict Descent</th>\n",
       "      <th>Premis Cd</th>\n",
       "      <th>Premis Desc</th>\n",
       "      <th>Status</th>\n",
       "      <th>Status Desc</th>\n",
       "      <th>Crm Cd 1</th>\n",
       "      <th>LOCATION</th>\n",
       "      <th>LAT</th>\n",
       "      <th>LON</th>\n",
       "    </tr>\n",
       "  </thead>\n",
       "  <tbody>\n",
       "    <tr>\n",
       "      <th>0</th>\n",
       "      <td>241711715</td>\n",
       "      <td>08/01/2024 12:00:00 AM</td>\n",
       "      <td>08/01/2024 12:00:00 AM</td>\n",
       "      <td>1319</td>\n",
       "      <td>17</td>\n",
       "      <td>Devonshire</td>\n",
       "      <td>1791</td>\n",
       "      <td>1</td>\n",
       "      <td>440</td>\n",
       "      <td>THEFT PLAIN - PETTY ($950 &amp; UNDER)</td>\n",
       "      <td>...</td>\n",
       "      <td>M</td>\n",
       "      <td>O</td>\n",
       "      <td>501.0</td>\n",
       "      <td>SINGLE FAMILY DWELLING</td>\n",
       "      <td>IC</td>\n",
       "      <td>Invest Cont</td>\n",
       "      <td>440.0</td>\n",
       "      <td>8300    KELVIN                       AV</td>\n",
       "      <td>34.2200</td>\n",
       "      <td>-118.5863</td>\n",
       "    </tr>\n",
       "    <tr>\n",
       "      <th>1</th>\n",
       "      <td>231014031</td>\n",
       "      <td>09/21/2023 12:00:00 AM</td>\n",
       "      <td>09/15/2023 12:00:00 AM</td>\n",
       "      <td>1930</td>\n",
       "      <td>10</td>\n",
       "      <td>West Valley</td>\n",
       "      <td>1011</td>\n",
       "      <td>2</td>\n",
       "      <td>354</td>\n",
       "      <td>THEFT OF IDENTITY</td>\n",
       "      <td>...</td>\n",
       "      <td>F</td>\n",
       "      <td>W</td>\n",
       "      <td>501.0</td>\n",
       "      <td>SINGLE FAMILY DWELLING</td>\n",
       "      <td>IC</td>\n",
       "      <td>Invest Cont</td>\n",
       "      <td>354.0</td>\n",
       "      <td>18900    CANTLAY                      ST</td>\n",
       "      <td>34.2023</td>\n",
       "      <td>-118.5458</td>\n",
       "    </tr>\n",
       "    <tr>\n",
       "      <th>2</th>\n",
       "      <td>231010808</td>\n",
       "      <td>06/27/2023 12:00:00 AM</td>\n",
       "      <td>06/26/2023 12:00:00 AM</td>\n",
       "      <td>1230</td>\n",
       "      <td>10</td>\n",
       "      <td>West Valley</td>\n",
       "      <td>1015</td>\n",
       "      <td>2</td>\n",
       "      <td>354</td>\n",
       "      <td>THEFT OF IDENTITY</td>\n",
       "      <td>...</td>\n",
       "      <td>F</td>\n",
       "      <td>O</td>\n",
       "      <td>501.0</td>\n",
       "      <td>SINGLE FAMILY DWELLING</td>\n",
       "      <td>IC</td>\n",
       "      <td>Invest Cont</td>\n",
       "      <td>354.0</td>\n",
       "      <td>7300    ENFIELD                      AV</td>\n",
       "      <td>34.2033</td>\n",
       "      <td>-118.5241</td>\n",
       "    </tr>\n",
       "    <tr>\n",
       "      <th>3</th>\n",
       "      <td>211410441</td>\n",
       "      <td>04/25/2021 12:00:00 AM</td>\n",
       "      <td>04/25/2021 12:00:00 AM</td>\n",
       "      <td>2330</td>\n",
       "      <td>14</td>\n",
       "      <td>Pacific</td>\n",
       "      <td>1488</td>\n",
       "      <td>2</td>\n",
       "      <td>626</td>\n",
       "      <td>INTIMATE PARTNER - SIMPLE ASSAULT</td>\n",
       "      <td>...</td>\n",
       "      <td>F</td>\n",
       "      <td>B</td>\n",
       "      <td>503.0</td>\n",
       "      <td>HOTEL</td>\n",
       "      <td>IC</td>\n",
       "      <td>Invest Cont</td>\n",
       "      <td>626.0</td>\n",
       "      <td>5800 W  CENTURY                      BL</td>\n",
       "      <td>33.9456</td>\n",
       "      <td>-118.3835</td>\n",
       "    </tr>\n",
       "    <tr>\n",
       "      <th>4</th>\n",
       "      <td>211114569</td>\n",
       "      <td>10/25/2021 12:00:00 AM</td>\n",
       "      <td>10/25/2021 12:00:00 AM</td>\n",
       "      <td>1455</td>\n",
       "      <td>11</td>\n",
       "      <td>Northeast</td>\n",
       "      <td>1123</td>\n",
       "      <td>1</td>\n",
       "      <td>210</td>\n",
       "      <td>ROBBERY</td>\n",
       "      <td>...</td>\n",
       "      <td>X</td>\n",
       "      <td>X</td>\n",
       "      <td>412.0</td>\n",
       "      <td>ELECTRONICS STORE (IE:RADIO SHACK, ETC.)</td>\n",
       "      <td>IC</td>\n",
       "      <td>Invest Cont</td>\n",
       "      <td>210.0</td>\n",
       "      <td>2900    LOS FELIZ                    BL</td>\n",
       "      <td>0.0000</td>\n",
       "      <td>0.0000</td>\n",
       "    </tr>\n",
       "  </tbody>\n",
       "</table>\n",
       "<p>5 rows × 22 columns</p>\n",
       "</div>"
      ],
      "text/plain": [
       "       DR_NO               Date Rptd                DATE OCC  TIME OCC  AREA  \\\n",
       "0  241711715  08/01/2024 12:00:00 AM  08/01/2024 12:00:00 AM      1319    17   \n",
       "1  231014031  09/21/2023 12:00:00 AM  09/15/2023 12:00:00 AM      1930    10   \n",
       "2  231010808  06/27/2023 12:00:00 AM  06/26/2023 12:00:00 AM      1230    10   \n",
       "3  211410441  04/25/2021 12:00:00 AM  04/25/2021 12:00:00 AM      2330    14   \n",
       "4  211114569  10/25/2021 12:00:00 AM  10/25/2021 12:00:00 AM      1455    11   \n",
       "\n",
       "     AREA NAME  Rpt Dist No  Part 1-2  Crm Cd  \\\n",
       "0   Devonshire         1791         1     440   \n",
       "1  West Valley         1011         2     354   \n",
       "2  West Valley         1015         2     354   \n",
       "3      Pacific         1488         2     626   \n",
       "4    Northeast         1123         1     210   \n",
       "\n",
       "                          Crm Cd Desc  ... Vict Sex  Vict Descent Premis Cd  \\\n",
       "0  THEFT PLAIN - PETTY ($950 & UNDER)  ...        M             O     501.0   \n",
       "1                   THEFT OF IDENTITY  ...        F             W     501.0   \n",
       "2                   THEFT OF IDENTITY  ...        F             O     501.0   \n",
       "3   INTIMATE PARTNER - SIMPLE ASSAULT  ...        F             B     503.0   \n",
       "4                             ROBBERY  ...        X             X     412.0   \n",
       "\n",
       "                                Premis Desc  Status  Status Desc Crm Cd 1  \\\n",
       "0                    SINGLE FAMILY DWELLING      IC  Invest Cont    440.0   \n",
       "1                    SINGLE FAMILY DWELLING      IC  Invest Cont    354.0   \n",
       "2                    SINGLE FAMILY DWELLING      IC  Invest Cont    354.0   \n",
       "3                                     HOTEL      IC  Invest Cont    626.0   \n",
       "4  ELECTRONICS STORE (IE:RADIO SHACK, ETC.)      IC  Invest Cont    210.0   \n",
       "\n",
       "                                   LOCATION      LAT       LON  \n",
       "0   8300    KELVIN                       AV  34.2200 -118.5863  \n",
       "1  18900    CANTLAY                      ST  34.2023 -118.5458  \n",
       "2   7300    ENFIELD                      AV  34.2033 -118.5241  \n",
       "3   5800 W  CENTURY                      BL  33.9456 -118.3835  \n",
       "4   2900    LOS FELIZ                    BL   0.0000    0.0000  \n",
       "\n",
       "[5 rows x 22 columns]"
      ]
     },
     "execution_count": 3,
     "metadata": {},
     "output_type": "execute_result"
    }
   ],
   "source": [
    "missing_counts = df.isnull().sum()\n",
    "\n",
    "threshold = len(df) * 0.5\n",
    "df_cleaned = df.dropna(thresh=threshold, axis=1)\n",
    "\n",
    "df_cleaned.head()"
   ]
  },
  {
   "cell_type": "markdown",
   "id": "119ec664-7824-4eef-9f92-b599d021a94c",
   "metadata": {},
   "source": [
    "### 1.3"
   ]
  },
  {
   "cell_type": "markdown",
   "id": "8a351f13-f527-4729-a3cc-2e8968e98967",
   "metadata": {},
   "source": [
    "- Convert DATE OCC to dateTime\n",
    "- Extract year, month, day\n",
    "- Create hour Timee OCC "
   ]
  },
  {
   "cell_type": "code",
   "execution_count": 4,
   "id": "6b0dc67b-a244-4e0b-8738-830eaff2d59f",
   "metadata": {},
   "outputs": [
    {
     "name": "stdout",
     "output_type": "stream",
     "text": [
      "    DATE OCC  TIME OCC  Year  Month  Day  Hour\n",
      "0 2024-08-01      1319  2024      8    1    13\n",
      "1 2023-09-15      1930  2023      9   15    19\n",
      "2 2023-06-26      1230  2023      6   26    12\n",
      "3 2021-04-25      2330  2021      4   25    23\n",
      "4 2021-10-25      1455  2021     10   25    14\n"
     ]
    },
    {
     "name": "stderr",
     "output_type": "stream",
     "text": [
      "C:\\Users\\budag\\AppData\\Local\\Temp\\ipykernel_5820\\3780802741.py:1: SettingWithCopyWarning: \n",
      "A value is trying to be set on a copy of a slice from a DataFrame.\n",
      "Try using .loc[row_indexer,col_indexer] = value instead\n",
      "\n",
      "See the caveats in the documentation: https://pandas.pydata.org/pandas-docs/stable/user_guide/indexing.html#returning-a-view-versus-a-copy\n",
      "  df_cleaned['DATE OCC'] = pd.to_datetime(df_cleaned['DATE OCC'], format=\"%m/%d/%Y %I:%M:%S %p\")\n",
      "C:\\Users\\budag\\AppData\\Local\\Temp\\ipykernel_5820\\3780802741.py:3: SettingWithCopyWarning: \n",
      "A value is trying to be set on a copy of a slice from a DataFrame.\n",
      "Try using .loc[row_indexer,col_indexer] = value instead\n",
      "\n",
      "See the caveats in the documentation: https://pandas.pydata.org/pandas-docs/stable/user_guide/indexing.html#returning-a-view-versus-a-copy\n",
      "  df_cleaned['Year'] = df_cleaned['DATE OCC'].dt.year\n",
      "C:\\Users\\budag\\AppData\\Local\\Temp\\ipykernel_5820\\3780802741.py:4: SettingWithCopyWarning: \n",
      "A value is trying to be set on a copy of a slice from a DataFrame.\n",
      "Try using .loc[row_indexer,col_indexer] = value instead\n",
      "\n",
      "See the caveats in the documentation: https://pandas.pydata.org/pandas-docs/stable/user_guide/indexing.html#returning-a-view-versus-a-copy\n",
      "  df_cleaned['Month'] = df_cleaned['DATE OCC'].dt.month\n",
      "C:\\Users\\budag\\AppData\\Local\\Temp\\ipykernel_5820\\3780802741.py:5: SettingWithCopyWarning: \n",
      "A value is trying to be set on a copy of a slice from a DataFrame.\n",
      "Try using .loc[row_indexer,col_indexer] = value instead\n",
      "\n",
      "See the caveats in the documentation: https://pandas.pydata.org/pandas-docs/stable/user_guide/indexing.html#returning-a-view-versus-a-copy\n",
      "  df_cleaned['Day'] = df_cleaned['DATE OCC'].dt.day\n",
      "C:\\Users\\budag\\AppData\\Local\\Temp\\ipykernel_5820\\3780802741.py:7: SettingWithCopyWarning: \n",
      "A value is trying to be set on a copy of a slice from a DataFrame.\n",
      "Try using .loc[row_indexer,col_indexer] = value instead\n",
      "\n",
      "See the caveats in the documentation: https://pandas.pydata.org/pandas-docs/stable/user_guide/indexing.html#returning-a-view-versus-a-copy\n",
      "  df_cleaned['Hour'] = df_cleaned['TIME OCC'].astype(str).str.zfill(4).str[:2].astype(int)\n"
     ]
    }
   ],
   "source": [
    "df_cleaned['DATE OCC'] = pd.to_datetime(df_cleaned['DATE OCC'], format=\"%m/%d/%Y %I:%M:%S %p\")\n",
    "\n",
    "df_cleaned['Year'] = df_cleaned['DATE OCC'].dt.year\n",
    "df_cleaned['Month'] = df_cleaned['DATE OCC'].dt.month\n",
    "df_cleaned['Day'] = df_cleaned['DATE OCC'].dt.day\n",
    "\n",
    "df_cleaned['Hour'] = df_cleaned['TIME OCC'].astype(str).str.zfill(4).str[:2].astype(int)\n",
    "\n",
    "print(df_cleaned[['DATE OCC', 'TIME OCC', 'Year', 'Month', 'Day', 'Hour']].head())"
   ]
  },
  {
   "cell_type": "markdown",
   "id": "a5787c45-38c8-434e-989d-862a181c4c25",
   "metadata": {},
   "source": [
    "### 1.4"
   ]
  },
  {
   "cell_type": "markdown",
   "id": "26f2d98c-e576-4f17-baa0-eceaf7d2e5dc",
   "metadata": {},
   "source": [
    "- Filter 2023\n",
    "- Filter bulglaries\n",
    "  \n",
    "<em> NOTE: I put the filtered data into new dataframe because I believe Part 2 expects clean data without filtration </em>"
   ]
  },
  {
   "cell_type": "code",
   "execution_count": 5,
   "id": "da69fc17-9f55-4bb5-a5cd-ed744f0e9f34",
   "metadata": {
    "scrolled": true
   },
   "outputs": [
    {
     "name": "stdout",
     "output_type": "stream",
     "text": [
      "47                  BURGLARY\n",
      "53     BURGLARY FROM VEHICLE\n",
      "130    BURGLARY FROM VEHICLE\n",
      "147                 BURGLARY\n",
      "158    BURGLARY FROM VEHICLE\n",
      "Name: Crm Cd Desc, dtype: object\n"
     ]
    }
   ],
   "source": [
    "df_filtered = df_cleaned[df_cleaned['Year'] == 2023]\n",
    "\n",
    "df_filtered = df_filtered[df_filtered['Crm Cd Desc'].str.contains(\"BURGLARY\", case=False, na=False)]\n",
    "\n",
    "print(df_filtered[\"Crm Cd Desc\"].head())"
   ]
  },
  {
   "cell_type": "markdown",
   "id": "7f2de2ac-1635-4ee9-ad69-1425a84972d2",
   "metadata": {},
   "source": [
    "### 1.5"
   ]
  },
  {
   "cell_type": "code",
   "execution_count": 15,
   "id": "4e5087d8-d517-464e-8e20-fde4cfc4baae",
   "metadata": {
    "scrolled": true
   },
   "outputs": [
    {
     "name": "stdout",
     "output_type": "stream",
     "text": [
      "      AREA NAME  Total Crimes  Avg Victim Age\n",
      "1       Central           146       32.808219\n",
      "18      West LA           107       40.196262\n",
      "11      Olympic            96       32.677083\n",
      "20     Wilshire            90       38.222222\n",
      "2    Devonshire            88       42.375000\n",
      "19  West Valley            87       36.149425\n",
      "8   N Hollywood            84       33.369048\n",
      "12      Pacific            77       29.233766\n",
      "17     Van Nuys            69       40.101449\n",
      "10    Northeast            65       30.538462\n",
      "15    Southwest            61       35.573770\n",
      "9        Newton            59       29.220339\n",
      "6     Hollywood            55       30.418182\n",
      "13      Rampart            54       28.888889\n",
      "16      Topanga            52       42.076923\n",
      "0   77th Street            51       36.725490\n",
      "4        Harbor            39       28.538462\n",
      "3      Foothill            33       36.575758\n",
      "14    Southeast            33       40.848485\n",
      "5    Hollenbeck            29       20.172414\n",
      "7       Mission            29       38.448276\n"
     ]
    }
   ],
   "source": [
    "crime_summary = df_filtered.groupby('AREA NAME').agg(\n",
    "    Total_Crimes=('DR_NO', 'count'),\n",
    "    Avg_Victim_Age=('Vict Age', 'mean')\n",
    ").reset_index()\n",
    "\n",
    "crime_summary.columns = ['AREA NAME', 'Total Crimes', 'Avg Victim Age']\n",
    "crime_summary = crime_summary.sort_values(by='Total Crimes', ascending=False)\n",
    "\n",
    "print(crime_summary)"
   ]
  },
  {
   "cell_type": "markdown",
   "id": "c7eaf882-5787-49ff-b752-194ef767e73c",
   "metadata": {},
   "source": [
    "## Part 2"
   ]
  },
  {
   "cell_type": "markdown",
   "id": "b1fbfc6c-0797-49d2-bb41-db15d4284d02",
   "metadata": {},
   "source": [
    "### 2.1"
   ]
  },
  {
   "cell_type": "markdown",
   "id": "bbaecc7b-3db4-46ef-b258-94e8e2d1c243",
   "metadata": {},
   "source": [
    "- count values in Crm Cd Desc\n",
    "- get top 3"
   ]
  },
  {
   "cell_type": "code",
   "execution_count": 7,
   "id": "a15e3756-0dda-4454-8998-783275515914",
   "metadata": {
    "scrolled": true
   },
   "outputs": [
    {
     "name": "stdout",
     "output_type": "stream",
     "text": [
      "Crm Cd Desc\n",
      "VEHICLE - STOLEN            5733\n",
      "BATTERY - SIMPLE ASSAULT    3715\n",
      "THEFT OF IDENTITY           3169\n",
      "Name: count, dtype: int64\n"
     ]
    }
   ],
   "source": [
    "top_3_crimes = df_cleaned['Crm Cd Desc'].value_counts().head(3)\n",
    "print(top_3_crimes)"
   ]
  },
  {
   "cell_type": "markdown",
   "id": "34437397-727d-4197-8e24-56a93e8b973e",
   "metadata": {},
   "source": [
    "### 2.2"
   ]
  },
  {
   "cell_type": "markdown",
   "id": "578a915f-cd2a-4d1b-931d-8dcd2b31b4af",
   "metadata": {},
   "source": [
    "- Group by hour\n",
    "- count number of crimes"
   ]
  },
  {
   "cell_type": "code",
   "execution_count": 8,
   "id": "3f387eef-21cc-45b3-9e4a-65d15a495ebe",
   "metadata": {},
   "outputs": [
    {
     "name": "stdout",
     "output_type": "stream",
     "text": [
      "    Hour  Crime Count\n",
      "0      0         2025\n",
      "1      1         1490\n",
      "2      2         1241\n",
      "3      3         1063\n",
      "4      4          975\n",
      "5      5          848\n",
      "6      6         1106\n",
      "7      7         1302\n",
      "8      8         1776\n",
      "9      9         1841\n",
      "10    10         2110\n",
      "11    11         2114\n",
      "12    12         3446\n",
      "13    13         2246\n",
      "14    14         2504\n",
      "15    15         2667\n",
      "16    16         2597\n",
      "17    17         2914\n",
      "18    18         3015\n",
      "19    19         2762\n",
      "20    20         2830\n",
      "21    21         2553\n",
      "22    22         2469\n",
      "23    23         2106\n"
     ]
    }
   ],
   "source": [
    "crimes_by_hour = df_cleaned.groupby('Hour').size().reset_index(name='Crime Count')\n",
    "print(crimes_by_hour)"
   ]
  },
  {
   "cell_type": "markdown",
   "id": "5e578d39-6f73-4712-beaa-be32c5c59a08",
   "metadata": {},
   "source": [
    "### 2.3"
   ]
  },
  {
   "cell_type": "markdown",
   "id": "851edf94-1a06-4c04-aac0-b2a3fd3ed3ae",
   "metadata": {},
   "source": [
    "- Group by Vict Sex\n",
    "- count total crimes\n",
    "- count average victim age"
   ]
  },
  {
   "cell_type": "code",
   "execution_count": 9,
   "id": "af420fcd-df95-4107-8cec-1f22701258d2",
   "metadata": {
    "scrolled": true
   },
   "outputs": [
    {
     "name": "stdout",
     "output_type": "stream",
     "text": [
      "  Vict Sex  Total_Crimes  Avg_Victim_Age\n",
      "0        F         17922       38.164156\n",
      "1        H             3       36.333333\n",
      "2        M         20076       37.165621\n",
      "3        X          4836        2.672043\n"
     ]
    }
   ],
   "source": [
    "crime_summary_sex = df_cleaned.groupby('Vict Sex').agg(\n",
    "    Total_Crimes=('DR_NO', 'count'),\n",
    "    Avg_Victim_Age=('Vict Age', 'mean')\n",
    ").reset_index()\n",
    "\n",
    "crime_summary.columns = ['AREA NAME', 'Total Crimes', 'Avg Victim Age']\n",
    "\n",
    "print(crime_summary_sex)"
   ]
  },
  {
   "cell_type": "markdown",
   "id": "7d6b72d1-d5cb-4dc0-b8b5-fdc33cc0da32",
   "metadata": {},
   "source": [
    "## Part 4"
   ]
  },
  {
   "cell_type": "markdown",
   "id": "6f924c13-8eba-4029-888a-92dcf62be66e",
   "metadata": {},
   "source": [
    "Define function for scoring\n",
    "\n",
    "<em> NOTE: I have assumed that if a crime is burglary with a weapon score is 5 (based on the task description) </em>"
   ]
  },
  {
   "cell_type": "code",
   "execution_count": 10,
   "id": "5458a852-fb73-437b-b602-d3b0b409b158",
   "metadata": {
    "scrolled": true
   },
   "outputs": [],
   "source": [
    "def assign_severity(row):\n",
    "    score = 1  \n",
    "    if pd.notnull(row['Weapon Used Cd']):\n",
    "        score = 5  \n",
    "    elif 'BURGLARY' in row['Crm Cd Desc']:\n",
    "        score = 3  \n",
    "    return score"
   ]
  },
  {
   "cell_type": "markdown",
   "id": "e0518f3e-e268-4ec3-af6e-41b7e67b80bd",
   "metadata": {},
   "source": [
    "Apply the function \n",
    "<em> NOTE: Using original Dataframe because cleaned df does not have the 'Weapon Used Cd' column </em>"
   ]
  },
  {
   "cell_type": "code",
   "execution_count": 11,
   "id": "7f606b66-a430-4caf-b2d0-4381e7c749bd",
   "metadata": {},
   "outputs": [],
   "source": [
    "df['Severity Score'] = df.apply(assign_severity, axis=1)"
   ]
  },
  {
   "cell_type": "markdown",
   "id": "7e50caa8-5f39-4729-9f71-e5e75cf873af",
   "metadata": {},
   "source": [
    "Count the sum of the score for each area"
   ]
  },
  {
   "cell_type": "code",
   "execution_count": 12,
   "id": "e022159c-eecf-4caa-99e2-7700a3cbb817",
   "metadata": {
    "scrolled": true
   },
   "outputs": [
    {
     "name": "stdout",
     "output_type": "stream",
     "text": [
      "      AREA NAME  Total_Severity_Score\n",
      "0   77th Street                  9439\n",
      "1       Central                  9513\n",
      "2    Devonshire                  4703\n",
      "3      Foothill                  3969\n",
      "4        Harbor                  5096\n",
      "5    Hollenbeck                  4615\n",
      "6     Hollywood                  6950\n",
      "7       Mission                  4665\n",
      "8   N Hollywood                  5789\n",
      "9        Newton                  7047\n",
      "10    Northeast                  4789\n",
      "11      Olympic                  6605\n",
      "12      Pacific                  6830\n",
      "13      Rampart                  6478\n",
      "14    Southeast                  7283\n",
      "15    Southwest                  7241\n",
      "16      Topanga                  4724\n",
      "17     Van Nuys                  5028\n",
      "18      West LA                  5005\n",
      "19  West Valley                  5286\n",
      "20     Wilshire                  5563\n"
     ]
    }
   ],
   "source": [
    "severity_by_area = df.groupby('AREA NAME').agg(\n",
    "    Total_Severity_Score=('Severity Score', 'sum')\n",
    ").reset_index()\n",
    "\n",
    "print(severity_by_area)"
   ]
  },
  {
   "cell_type": "markdown",
   "id": "a8d5f024-7646-40ee-9c43-394aa9bacaaf",
   "metadata": {},
   "source": [
    "### Bonus"
   ]
  },
  {
   "cell_type": "markdown",
   "id": "11fcf067-eb01-4fb4-93b3-ad9764bc12f1",
   "metadata": {},
   "source": [
    "filter based on Lat and Lon\n",
    "\n",
    "<em> NOTE: I took arbitrary values for the box </em>"
   ]
  },
  {
   "cell_type": "code",
   "execution_count": 13,
   "id": "1fb2de55-08b8-4baf-808b-48dc50d7c8c1",
   "metadata": {
    "scrolled": true
   },
   "outputs": [
    {
     "name": "stdout",
     "output_type": "stream",
     "text": [
      "           DR_NO               Date Rptd   DATE OCC  TIME OCC  AREA  \\\n",
      "0      241711715  08/01/2024 12:00:00 AM 2024-08-01      1319    17   \n",
      "1      231014031  09/21/2023 12:00:00 AM 2023-09-15      1930    10   \n",
      "2      231010808  06/27/2023 12:00:00 AM 2023-06-26      1230    10   \n",
      "17     201710780  07/05/2020 12:00:00 AM 2020-07-05      1120    17   \n",
      "41     241708301  04/13/2024 12:00:00 AM 2023-10-30      2130    17   \n",
      "...          ...                     ...        ...       ...   ...   \n",
      "49918  201011114  07/18/2020 12:00:00 AM 2020-07-18      1200    10   \n",
      "49919  211004241  01/09/2021 12:00:00 AM 2021-01-06      1600    10   \n",
      "49961  201709510  05/28/2020 12:00:00 AM 2020-05-28       600    17   \n",
      "49977  202115969  11/14/2020 12:00:00 AM 2020-11-14      1345    21   \n",
      "49992  202110106  06/02/2020 12:00:00 AM 2020-05-29      1600    21   \n",
      "\n",
      "         AREA NAME  Rpt Dist No  Part 1-2  Crm Cd  \\\n",
      "0       Devonshire         1791         1     440   \n",
      "1      West Valley         1011         2     354   \n",
      "2      West Valley         1015         2     354   \n",
      "17      Devonshire         1794         2     625   \n",
      "41      Devonshire         1782         1     445   \n",
      "...            ...          ...       ...     ...   \n",
      "49918  West Valley         1047         1     350   \n",
      "49919  West Valley         1001         1     510   \n",
      "49961   Devonshire         1783         1     510   \n",
      "49977      Topanga         2146         2     930   \n",
      "49992      Topanga         2136         1     330   \n",
      "\n",
      "                                  Crm Cd Desc  ... Status   Status Desc  \\\n",
      "0          THEFT PLAIN - PETTY ($950 & UNDER)  ...     IC   Invest Cont   \n",
      "1                           THEFT OF IDENTITY  ...     IC   Invest Cont   \n",
      "2                           THEFT OF IDENTITY  ...     IC   Invest Cont   \n",
      "17                              OTHER ASSAULT  ...     IC   Invest Cont   \n",
      "41         DISHONEST EMPLOYEE ATTEMPTED THEFT  ...     IC   Invest Cont   \n",
      "...                                       ...  ...    ...           ...   \n",
      "49918                           THEFT, PERSON  ...     AO   Adult Other   \n",
      "49919                        VEHICLE - STOLEN  ...     IC   Invest Cont   \n",
      "49961                        VEHICLE - STOLEN  ...     IC   Invest Cont   \n",
      "49977  CRIMINAL THREATS - NO WEAPON DISPLAYED  ...     AA  Adult Arrest   \n",
      "49992                   BURGLARY FROM VEHICLE  ...     IC   Invest Cont   \n",
      "\n",
      "      Crm Cd 1                                  LOCATION      LAT       LON  \\\n",
      "0        440.0   8300    KELVIN                       AV  34.2200 -118.5863   \n",
      "1        354.0  18900    CANTLAY                      ST  34.2023 -118.5458   \n",
      "2        354.0   7300    ENFIELD                      AV  34.2033 -118.5241   \n",
      "17       625.0   8300    RESEDA                       BL  34.2208 -118.5361   \n",
      "41       445.0   8800    CORBIN                       AV  34.2302 -118.5623   \n",
      "...        ...                                       ...      ...       ...   \n",
      "49918    350.0   5900    BALBOA                       BL  34.1773 -118.5013   \n",
      "49919    510.0   7700    TAMPA                        AV  34.2102 -118.5535   \n",
      "49961    510.0   9000    VANALDEN                     AV  34.2341 -118.5493   \n",
      "49977    930.0  21500    BASSETT                      ST  34.1956 -118.6003   \n",
      "49992    330.0   7200    OWENSMOUTH                   AV  34.2010 -118.6016   \n",
      "\n",
      "       Year Month  Day Hour  \n",
      "0      2024     8    1   13  \n",
      "1      2023     9   15   19  \n",
      "2      2023     6   26   12  \n",
      "17     2020     7    5   11  \n",
      "41     2023    10   30   21  \n",
      "...     ...   ...  ...  ...  \n",
      "49918  2020     7   18   12  \n",
      "49919  2021     1    6   16  \n",
      "49961  2020     5   28    6  \n",
      "49977  2020    11   14   13  \n",
      "49992  2020     5   29   16  \n",
      "\n",
      "[4750 rows x 26 columns]\n"
     ]
    }
   ],
   "source": [
    "min_lat = 34\n",
    "max_lat = 34.25 \n",
    "min_lon = -118.75\n",
    "max_lon = -118.50\n",
    "\n",
    "crimes_filtered = df_cleaned[\n",
    "    (df_cleaned['LAT'] >= min_lat) & (df_cleaned['LAT'] <= max_lat) &\n",
    "    (df_cleaned['LON'] >= min_lon) & (df_cleaned['LON'] <= max_lon)\n",
    "]\n",
    "\n",
    "print(crimes_filtered)"
   ]
  },
  {
   "cell_type": "markdown",
   "id": "9cf94717-d11b-4ffa-812f-a9bee5880fd0",
   "metadata": {},
   "source": [
    "# Export cleaned dataset"
   ]
  },
  {
   "cell_type": "code",
   "execution_count": 14,
   "id": "ae5f6090-602b-4346-916e-6a5328ad79bf",
   "metadata": {},
   "outputs": [],
   "source": [
    "df_cleaned.to_csv('cleaned_crime_data_py.csv', index=False)"
   ]
  },
  {
   "cell_type": "code",
   "execution_count": null,
   "id": "51edb520-84c7-4e17-9c4a-034d481a5b4a",
   "metadata": {},
   "outputs": [],
   "source": []
  }
 ],
 "metadata": {
  "kernelspec": {
   "display_name": "Python (jupenv)",
   "language": "python",
   "name": "jupenv"
  },
  "language_info": {
   "codemirror_mode": {
    "name": "ipython",
    "version": 3
   },
   "file_extension": ".py",
   "mimetype": "text/x-python",
   "name": "python",
   "nbconvert_exporter": "python",
   "pygments_lexer": "ipython3",
   "version": "3.10.11"
  }
 },
 "nbformat": 4,
 "nbformat_minor": 5
}
